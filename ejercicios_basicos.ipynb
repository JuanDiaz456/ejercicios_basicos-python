{
  "nbformat": 4,
  "nbformat_minor": 0,
  "metadata": {
    "colab": {
      "provenance": [],
      "authorship_tag": "ABX9TyMn7d1O6DUORuvsoRLSMCZV",
      "include_colab_link": true
    },
    "kernelspec": {
      "name": "python3",
      "display_name": "Python 3"
    },
    "language_info": {
      "name": "python"
    }
  },
  "cells": [
    {
      "cell_type": "markdown",
      "metadata": {
        "id": "view-in-github",
        "colab_type": "text"
      },
      "source": [
        "<a href=\"https://colab.research.google.com/github/JuanDiaz456/ejercicios_basicos-python/blob/main/ejercicios_basicos.ipynb\" target=\"_parent\"><img src=\"https://colab.research.google.com/assets/colab-badge.svg\" alt=\"Open In Colab\"/></a>"
      ]
    },
    {
      "cell_type": "code",
      "execution_count": null,
      "metadata": {
        "id": "oPxZuh2YgzcB"
      },
      "outputs": [],
      "source": [
        "\n",
        "# suma de dos numeros enteros\n",
        "print(\"------------------------------\")\n",
        "print(\"---- SUMA DE DOS ENTEROS -----\")\n",
        "print(\"------------------------------\")\n",
        "\n",
        "#input\n",
        "x=int(input(\"digite el valor de x: \"))\n",
        "y=int(input(\"digite el valor de y: \"))\n",
        "\n",
        "#processing\n",
        "z= x+y\n",
        "\n",
        "#ouput\n",
        "print(\"la suma de \",x,\" mas \",y,\" es igual a\" ,z)"
      ]
    },
    {
      "cell_type": "markdown",
      "source": [],
      "metadata": {
        "id": "2Gg0W8NBjfPd"
      }
    },
    {
      "cell_type": "markdown",
      "source": [
        "# ejercicios basicos python\n",
        "\n",
        "1. suma de dos numeros\n",
        "2. potencia de un numero\n"
      ],
      "metadata": {
        "id": "1FFRJtATjkJq"
      }
    }
  ]
}